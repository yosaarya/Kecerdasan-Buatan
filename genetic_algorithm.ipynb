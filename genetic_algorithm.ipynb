{
  "nbformat": 4,
  "nbformat_minor": 0,
  "metadata": {
    "colab": {
      "name": "genetic algorithm.ipynb",
      "provenance": [],
      "collapsed_sections": []
    },
    "kernelspec": {
      "name": "python3",
      "display_name": "Python 3"
    },
    "language_info": {
      "name": "python"
    }
  },
  "cells": [
    {
      "cell_type": "code",
      "metadata": {
        "id": "LCe0rYV6K4c2"
      },
      "source": [
        "import random\n",
        "import math"
      ],
      "execution_count": null,
      "outputs": []
    },
    {
      "cell_type": "code",
      "metadata": {
        "id": "jn3CjljAK7mP"
      },
      "source": [
        "def objective(m):#Objective Function\n",
        "    return(abs((m[0]+2*m[1]+3*m[2]+4*m[3])-30))\n",
        "def fitness(m): #Fitness Function\n",
        "    return(1/(1+m))\n",
        "def probability(m,n): #Probability Function\n",
        "    return(m/n)\n",
        "def crossover(m,n): #Crossover\n",
        "    pt=random.randint(0,3)\n",
        "    return(m[:pt+1]+n[pt+1:])"
      ],
      "execution_count": null,
      "outputs": []
    },
    {
      "cell_type": "code",
      "metadata": {
        "colab": {
          "base_uri": "https://localhost:8080/"
        },
        "id": "fVY6vIpHLkDI",
        "outputId": "4cf20ccd-8f2f-4f3d-89e2-6717b03fd3c1"
      },
      "source": [
        "print(\"Minimize a+2b+3c+4d-30\")"
      ],
      "execution_count": null,
      "outputs": [
        {
          "output_type": "stream",
          "text": [
            "Minimize a+2b+3c+4d-30\n"
          ],
          "name": "stdout"
        }
      ]
    },
    {
      "cell_type": "code",
      "metadata": {
        "colab": {
          "base_uri": "https://localhost:8080/"
        },
        "id": "CzjUwTJYLm4G",
        "outputId": "adc95cdf-c963-46a0-f1b8-d3a4a1c2f020"
      },
      "source": [
        "print(\"Population size: 6\")"
      ],
      "execution_count": null,
      "outputs": [
        {
          "output_type": "stream",
          "text": [
            "Population size: 6\n"
          ],
          "name": "stdout"
        }
      ]
    },
    {
      "cell_type": "code",
      "metadata": {
        "id": "SJr5n3YLLr9g"
      },
      "source": [
        "pop1=[]"
      ],
      "execution_count": null,
      "outputs": []
    },
    {
      "cell_type": "markdown",
      "metadata": {
        "id": "wb1ASYlGLvVi"
      },
      "source": [
        "#Initialize random population"
      ]
    },
    {
      "cell_type": "code",
      "metadata": {
        "colab": {
          "base_uri": "https://localhost:8080/"
        },
        "id": "doQDPUt6LxSs",
        "outputId": "e6f9736c-0993-4984-f7be-8dd960826f4e"
      },
      "source": [
        "for i in range(6):\n",
        "    pop1.append([])\n",
        "    for j in range(4):\n",
        "        pop1[i].append(random.randint(0,30))\n",
        "print(\"Initial Populaion: \")\n",
        "for i in range(6):\n",
        "    print(pop1[i])"
      ],
      "execution_count": null,
      "outputs": [
        {
          "output_type": "stream",
          "text": [
            "Initial Populaion: \n",
            "[9, 5, 8, 23]\n",
            "[27, 11, 9, 5]\n",
            "[21, 1, 7, 13]\n",
            "[11, 4, 4, 5]\n",
            "[5, 29, 19, 4]\n",
            "[22, 10, 30, 28]\n"
          ],
          "name": "stdout"
        }
      ]
    },
    {
      "cell_type": "markdown",
      "metadata": {
        "id": "vASFZFGVMBru"
      },
      "source": [
        "#Maximum iterations 10"
      ]
    },
    {
      "cell_type": "code",
      "metadata": {
        "colab": {
          "base_uri": "https://localhost:8080/"
        },
        "id": "EmO7gKqdMLPS",
        "outputId": "ccd8d5d7-6c40-4eba-aeb2-f390e02a637d"
      },
      "source": [
        "for it in range(10):\n",
        "    obj=[0]*6\n",
        "    print(\"Objective Function: \")\n",
        "    for i in range(6):\n",
        "        obj[i]=objective(pop1[i])\n",
        "        print(obj[i])\n",
        "    fit=[0]*6\n",
        "    print(\"\")\n",
        "    print(\"Fitness Value: \")\n",
        "    \n",
        "    for i in range(6):\n",
        "        fit[i]=fitness(obj[i])\n",
        "        print(fit[i])\n",
        "    print(\"Total fitness: \",sum(fit))\n",
        "    print(\"\")\n",
        "    prob=[0]*6"
      ],
      "execution_count": null,
      "outputs": [
        {
          "output_type": "stream",
          "text": [
            "Objective Function: \n",
            "105\n",
            "66\n",
            "66\n",
            "21\n",
            "106\n",
            "214\n",
            "\n",
            "Fitness Value: \n",
            "0.009433962264150943\n",
            "0.014925373134328358\n",
            "0.014925373134328358\n",
            "0.045454545454545456\n",
            "0.009345794392523364\n",
            "0.004651162790697674\n",
            "Total fitness:  0.09873621117057416\n",
            "\n",
            "Objective Function: \n",
            "105\n",
            "66\n",
            "66\n",
            "21\n",
            "106\n",
            "214\n",
            "\n",
            "Fitness Value: \n",
            "0.009433962264150943\n",
            "0.014925373134328358\n",
            "0.014925373134328358\n",
            "0.045454545454545456\n",
            "0.009345794392523364\n",
            "0.004651162790697674\n",
            "Total fitness:  0.09873621117057416\n",
            "\n",
            "Objective Function: \n",
            "105\n",
            "66\n",
            "66\n",
            "21\n",
            "106\n",
            "214\n",
            "\n",
            "Fitness Value: \n",
            "0.009433962264150943\n",
            "0.014925373134328358\n",
            "0.014925373134328358\n",
            "0.045454545454545456\n",
            "0.009345794392523364\n",
            "0.004651162790697674\n",
            "Total fitness:  0.09873621117057416\n",
            "\n",
            "Objective Function: \n",
            "105\n",
            "66\n",
            "66\n",
            "21\n",
            "106\n",
            "214\n",
            "\n",
            "Fitness Value: \n",
            "0.009433962264150943\n",
            "0.014925373134328358\n",
            "0.014925373134328358\n",
            "0.045454545454545456\n",
            "0.009345794392523364\n",
            "0.004651162790697674\n",
            "Total fitness:  0.09873621117057416\n",
            "\n",
            "Objective Function: \n",
            "105\n",
            "66\n",
            "66\n",
            "21\n",
            "106\n",
            "214\n",
            "\n",
            "Fitness Value: \n",
            "0.009433962264150943\n",
            "0.014925373134328358\n",
            "0.014925373134328358\n",
            "0.045454545454545456\n",
            "0.009345794392523364\n",
            "0.004651162790697674\n",
            "Total fitness:  0.09873621117057416\n",
            "\n",
            "Objective Function: \n",
            "105\n",
            "66\n",
            "66\n",
            "21\n",
            "106\n",
            "214\n",
            "\n",
            "Fitness Value: \n",
            "0.009433962264150943\n",
            "0.014925373134328358\n",
            "0.014925373134328358\n",
            "0.045454545454545456\n",
            "0.009345794392523364\n",
            "0.004651162790697674\n",
            "Total fitness:  0.09873621117057416\n",
            "\n",
            "Objective Function: \n",
            "105\n",
            "66\n",
            "66\n",
            "21\n",
            "106\n",
            "214\n",
            "\n",
            "Fitness Value: \n",
            "0.009433962264150943\n",
            "0.014925373134328358\n",
            "0.014925373134328358\n",
            "0.045454545454545456\n",
            "0.009345794392523364\n",
            "0.004651162790697674\n",
            "Total fitness:  0.09873621117057416\n",
            "\n",
            "Objective Function: \n",
            "105\n",
            "66\n",
            "66\n",
            "21\n",
            "106\n",
            "214\n",
            "\n",
            "Fitness Value: \n",
            "0.009433962264150943\n",
            "0.014925373134328358\n",
            "0.014925373134328358\n",
            "0.045454545454545456\n",
            "0.009345794392523364\n",
            "0.004651162790697674\n",
            "Total fitness:  0.09873621117057416\n",
            "\n",
            "Objective Function: \n",
            "105\n",
            "66\n",
            "66\n",
            "21\n",
            "106\n",
            "214\n",
            "\n",
            "Fitness Value: \n",
            "0.009433962264150943\n",
            "0.014925373134328358\n",
            "0.014925373134328358\n",
            "0.045454545454545456\n",
            "0.009345794392523364\n",
            "0.004651162790697674\n",
            "Total fitness:  0.09873621117057416\n",
            "\n",
            "Objective Function: \n",
            "105\n",
            "66\n",
            "66\n",
            "21\n",
            "106\n",
            "214\n",
            "\n",
            "Fitness Value: \n",
            "0.009433962264150943\n",
            "0.014925373134328358\n",
            "0.014925373134328358\n",
            "0.045454545454545456\n",
            "0.009345794392523364\n",
            "0.004651162790697674\n",
            "Total fitness:  0.09873621117057416\n",
            "\n"
          ],
          "name": "stdout"
        }
      ]
    },
    {
      "cell_type": "markdown",
      "metadata": {
        "id": "96Xl-3m-MSgq"
      },
      "source": [
        " #Probability calculation"
      ]
    },
    {
      "cell_type": "code",
      "metadata": {
        "id": "iSqosj-xMQPA"
      },
      "source": [
        "for i in range(6):\n",
        "        prob[i]=probability(fit[i],sum(fit))"
      ],
      "execution_count": null,
      "outputs": []
    },
    {
      "cell_type": "markdown",
      "metadata": {
        "id": "PSjEwruQMgIJ"
      },
      "source": [
        "#Commulative Probability Calculation"
      ]
    },
    {
      "cell_type": "code",
      "metadata": {
        "id": "Z9AFZNEKMhxj"
      },
      "source": [
        "cmp=[0]*6\n",
        "sum1=0\n",
        "for i in range(6):\n",
        "    sum1+=prob[i]\n",
        "    cmp[i]=sum1"
      ],
      "execution_count": null,
      "outputs": []
    },
    {
      "cell_type": "markdown",
      "metadata": {
        "id": "8r0OEItWNCMZ"
      },
      "source": [
        "#Roulette Wheel Selection"
      ]
    },
    {
      "cell_type": "code",
      "metadata": {
        "colab": {
          "base_uri": "https://localhost:8080/"
        },
        "id": "b8kOzUihNDU3",
        "outputId": "41e2e557-d36b-47de-c74a-86a1c2b6da18"
      },
      "source": [
        "R=[0]*6\n",
        "    \n",
        "for i in range(6):\n",
        "  R[i]=random.random()\n",
        "  new_pop=[]\n",
        "    \n",
        "for i in range(6):\n",
        "        for j in range(6):\n",
        "            if R[i]<=cmp[j]:\n",
        "                new_pop.append(pop1[j])\n",
        "                break\n",
        "    \n",
        "print(\"After Selection: \",new_pop)"
      ],
      "execution_count": null,
      "outputs": [
        {
          "output_type": "stream",
          "text": [
            "After Selection:  [[21, 1, 7, 13], [11, 4, 4, 5], [27, 11, 9, 5], [11, 4, 4, 5], [11, 4, 4, 5], [22, 10, 30, 28]]\n"
          ],
          "name": "stdout"
        }
      ]
    },
    {
      "cell_type": "markdown",
      "metadata": {
        "id": "v5vj3MLUNVsi"
      },
      "source": [
        "#Crossover"
      ]
    },
    {
      "cell_type": "code",
      "metadata": {
        "id": "w0FMo1sBNWm7"
      },
      "source": [
        "cr=0.25#Crossover Rate\n",
        "CR=[0]*6\n",
        "for i in range(6):\n",
        "    CR[i]=random.random()\n",
        "    par=[]\n",
        "    par_index=[]\n",
        "    \n",
        "for i in range(6):\n",
        "   if CR[i]<cr:\n",
        "       par.append(new_pop[i])\n",
        "       par_index.append(i)\n",
        "    \n",
        "x=len(par)\n",
        "for i in range(x):\n",
        "    a=random.randint(0,x-1)\n",
        "    b=random.randint(0,x-1)\n",
        "    new_pop[par_index[i]]=crossover(par[a],par[b])"
      ],
      "execution_count": null,
      "outputs": []
    },
    {
      "cell_type": "markdown",
      "metadata": {
        "id": "94OTVeYwNswa"
      },
      "source": [
        "#Mutation"
      ]
    },
    {
      "cell_type": "code",
      "metadata": {
        "colab": {
          "base_uri": "https://localhost:8080/"
        },
        "id": "mA03wiaiNtqN",
        "outputId": "57b854b1-4d1b-444c-cb4d-9f7c750327b6"
      },
      "source": [
        "mr=0.1 #mutation rate\n",
        "total_mut=math.floor(24*mr)\n",
        "mut_index=[]\n",
        "mut_value=[]\n",
        "for i in range(total_mut):\n",
        "    mut_index.append(random.randint(0,23))\n",
        "    mut_value.append(random.randint(0,30))\n",
        "    cr_num=mut_index[i]//4\n",
        "    gen_num=mut_index[i]%4\n",
        "    new_pop[cr_num][-(gen_num-1)]=mut_value[i]\n",
        "\n",
        "print(\"After iteration: \",it,\" Population is\")\n",
        "print(new_pop)\n",
        "print(obj)\n",
        "pop1=new_pop"
      ],
      "execution_count": null,
      "outputs": [
        {
          "output_type": "stream",
          "text": [
            "After iteration:  9  Population is\n",
            "[[21, 1, 7, 13], [11, 1, 4, 5], [27, 11, 9, 5], [21, 1, 4, 5], [11, 1, 4, 5], [22, 10, 30, 28]]\n",
            "[105, 66, 66, 21, 106, 214]\n"
          ],
          "name": "stdout"
        }
      ]
    }
  ]
}